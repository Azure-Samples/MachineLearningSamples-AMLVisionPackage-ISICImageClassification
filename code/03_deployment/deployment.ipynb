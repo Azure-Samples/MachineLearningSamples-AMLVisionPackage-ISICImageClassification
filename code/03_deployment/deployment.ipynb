{
 "cells": [
  {
   "cell_type": "markdown",
   "metadata": {},
   "source": [
    "# Deployment\n",
    "\n",
    "This Notebook operationalize the model produced from the modeling step. It introduces the operationalization prequisites and setup. Finally, the consumption of the web service is also explained."
   ]
  },
  {
   "cell_type": "markdown",
   "metadata": {
    "collapsed": true
   },
   "source": [
    "### Step 1: Webservice Deployment\n",
    "\n",
    "\n",
    "<b>Introduction:</b></n>\n",
    "\n",
    "Operationalization is the process of publishing models and code as web services and the consumption of these services to produce business results. Once your model is trained, we can deploy your trained model as a webservice for comsumption with [Azure Machine Learning CLI](https://docs.microsoft.com/en-us/azure/machine-learning/preview/cli-for-azure-machine-learning). Your models can be deployed to your local machine or Azure Container Service (ACS) cluster as a webservice. You can scale your webservice with Azure Container Service (ACS) cluster. It also provides some autoscaling functionality for your webservice.\n",
    "\n",
    "\n",
    "<b>Prerequisite:</b> \n",
    "   - You need an [Azure](https://azure.microsoft.com/en-us/) account with a valid subscription. You need to login to your account if you haven't done so. Change to your target subscription if you need.\n",
    "   >Azure CLI command to login: \n",
    "   `az login` \n",
    "   \n",
    "   >Azure CLI command to change subscription: \n",
    "   `az account set --subscription [your subscription name]` \n",
    "   \n",
    "   - You need an [Azure ML Model Management](https://docs.microsoft.com/en-us/azure/machine-learning/preview/model-management-overview) account. You need to set your model management account if you haven't done it before. **Note: Please create your Azure Machine Learning Model Management account with location of \"westcentralus\", avoiding \"eastus2\" for now (Because some locations are having deployment timeout issue, which the Azure Machine Learning CLI team is going to fix).** For more details, you can follow the instruction from this [page](https://docs.microsoft.com/en-us/azure/machine-learning/preview/deployment-setup-configuration#create-a-model-management-account) to create one. You can use this CLI command to show your active model management account: `az ml account modelmanagement show`\n",
    "   >Azure CLI command example to create and set model management account:\n",
    "   ```\n",
    "   az ml account modelmanagement create -l [Azure region, e.g. westcentralus] -n [your account name] -g [resource group name] --sku-instances [number of instances, e.g. 1] --sku-name [Pricing tier for example S1]\n",
    "   az ml account modelmanagement set -n [your account name] -g [resource group it was created in]\n",
    "   ``` \n",
    "   - You need a deployment environment. If you've already set the deployment environment before running this notebook, you don't need to do it again. If you don't have one, please follow the following instruction in this [page](https://docs.microsoft.com/en-us/azure/machine-learning/preview/deployment-setup-configuration#environment-setup) to set up a deployment environment. Be sure to follow the local or cluster deployment setup steps correctly based on your need. <b>Note:</b> The local environment deployment are not supported for the Windows DSVM/DLVM today. However, local deployment is supported for Linux and Windows 10. The cluster environment deployment is supported for both Linux and Windows. You only need to set it once. You can use this CLI command to show your active deployment environment: az ml env show\n",
    "   \n",
    "   >Azure CLI command example to create and set deployment environment\n",
    "    ```\n",
    "    az provider register -n Microsoft.MachineLearningCompute\n",
    "    az provider register -n Microsoft.ContainerRegistry\n",
    "    az provider register -n Microsoft.ContainerService\n",
    "    az ml env setup --cluster -n [your environment name] -l [Azure region e.g. westcentralus] [-g [resource group]]\n",
    "    az ml env set -n [environment name] -g [resource group]\n",
    "    az ml env cluster\n",
    "    ```\n",
    "    \n",
    "   \n",
    "<b>Deployment API:</b>\n",
    "\n",
    "> **Examples:**\n",
    "- ```deploy_obj = AMLDeployment(deployment_name=deployment_name, associated_DNNModel=dnn_model, aml_env=\"cluster\")``` # create deployment object\n",
    "- ```deploy_obj.deploy()``` # deploy web service\n",
    "- ```deploy_obj.score_image(local_image_path_or_image_url)``` # score an image\n",
    "- ```deploy_obj.delete()``` # delete the web service\n",
    "- ```deploy_obj.build_docker_image()``` # build docker image without creating webservice\n",
    "- ```AMLDeployment.list_deployment()``` # list existing deployment\n",
    "- ```AMLDeployment.delete_if_service_exist(deployment_name)``` # delete if the service exists with the deployment name\n",
    "\n",
    "<b>API Documentation:</b>\n",
    "\n",
    "For more API details, please check the API doc. For more advanced operations related to deployment, please check the [model management CLI reference](https://docs.microsoft.com/en-us/azure/machine-learning/preview/model-management-cli-reference).\n",
    "\n",
    "<b>Deployment management with portal:</b>\n",
    "\n",
    "You can go to [Azure portal](https://ms.portal.azure.com/) to track and manage your deployments. From Azure portal, find your Machine Learning Model Management account page (You can search for your model management account name). Then go to: the model management account page->Model Management->Services."
   ]
  },
  {
   "cell_type": "code",
   "execution_count": null,
   "metadata": {},
   "outputs": [],
   "source": [
    "# ##### OPTIONAL###### \n",
    "# Interactive CLI setup helper, including model management account and deployment environment.\n",
    "# If you haven't setup you CLI before or if you want to change you CLI settings, you can use this block to help you interactively.\n",
    "#\n",
    "# UNCOMMENT THE FOLLOWING LINES IF YOU HAVE NOT CREATED OR SET THE MODEL MANAGEMENT ACCOUNT AND DEPLOYMENT ENVIRONMENT\n",
    "#\n",
    "# from azuremltkbase.deployment import CliSetup\n",
    "# CliSetup().run()"
   ]
  },
  {
   "cell_type": "code",
   "execution_count": null,
   "metadata": {},
   "outputs": [],
   "source": [
    "# # Optional. Persist you model on disk and reuse it later for deployment. \n",
    "from cvtk import ClassificationDataset, CNTKTLModel, Context, Splitter, StorageContext\n",
    "from cvtk import TFFasterRCNN, Context\n",
    "import os\n",
    "# Set storage context.\n",
    "out_root_path = \"../../../cvtk_output\"\n",
    "Context.create(outputs_path=out_root_path, persistent_path=out_root_path, temp_path=out_root_path)\n",
    "\n",
    "save_model_path = os.path.join(Context.get_global_context().storage.persistent_path, \"saved_classifier.model\")\n",
    "#save_model_path = '../02_modeling/saved_classifier.model'\n",
    "# Save model to disk\n",
    "# dnn_model.serialize(save_model_path)\n",
    "# # Load model from disk\n",
    "dnn_model = CNTKTLModel.deserialize(save_model_path)"
   ]
  },
  {
   "cell_type": "code",
   "execution_count": null,
   "metadata": {},
   "outputs": [],
   "source": [
    "from cvtk.operationalization import AMLDeployment\n",
    "\n",
    "# set deployment name\n",
    "deployment_name = \"wsdeployment\"\n",
    "\n",
    "# Optional azure machine learning deployment cluster name (environment name) and resource group name\n",
    "# If you don't provide here. It will use the current deployment environment (you can check with CLI command \"az ml env show\").\n",
    "azureml_rscgroup = \"<resource group>\"\n",
    "cluster_name = \"<cluster name>\"\n",
    "\n",
    "# If you provide the cluster information, it will use the provided cluster to deploy. \n",
    "# Example: deploy_obj = AMLDeployment(deployment_name=deployment_name, associated_DNNModel=dnn_model,\n",
    "#                            aml_env=\"cluster\", cluster_name=cluster_name, resource_group=azureml_rscgroup, replicas=1)\n",
    "\n",
    "# Create deployment object\n",
    "deploy_obj = AMLDeployment(deployment_name=deployment_name, aml_env=\"cluster\", associated_DNNModel=dnn_model, replicas=1)\n",
    "\n",
    "# Check if the deployment name exists, if yes remove it first.\n",
    "if deploy_obj.is_existing_service():\n",
    "    AMLDeployment.delete_if_service_exist(deployment_name)\n",
    "    \n",
    "# create the webservice\n",
    "print(\"Deploying to Azure cluster...\")\n",
    "deploy_obj.deploy()\n",
    "print(\"Deployment DONE\")"
   ]
  },
  {
   "cell_type": "code",
   "execution_count": null,
   "metadata": {},
   "outputs": [],
   "source": []
  },
  {
   "cell_type": "markdown",
   "metadata": {
    "collapsed": true
   },
   "source": [
    "### Step 2: Webservice comsumption\n",
    "\n",
    "Once you created the webservice, you can score images with the deployed webservice. You have several options:\n",
    "\n",
    "   - You can directly score the webservice with the deployment object with: deploy_obj.score_image(image_path_or_url) \n",
    "   - Or, you can use the Service endpoin url and Serivce key (None for local deployment) with: AMLDeployment.score_existing_service_with_image(image_path_or_url, service_endpoint_url, service_key=None)\n",
    "   - Form your http requests directly to score the webservice endpoint (For advanced users)."
   ]
  },
  {
   "cell_type": "markdown",
   "metadata": {},
   "source": [
    "#### Score with existing deployment object\n",
    "```\n",
    "deploy_obj.score_image(image_path_or_url)\n",
    "```"
   ]
  },
  {
   "cell_type": "code",
   "execution_count": null,
   "metadata": {},
   "outputs": [],
   "source": [
    "# Score with existing deployment object\n",
    "\n",
    "# Score local image with file path\n",
    "print(\"Score local image with file path\")\n",
    "image_path_or_url = \"\" # replace with your image path\n",
    "print(\"Image source:\",image_path_or_url)\n",
    "serialized_result_in_json = deploy_obj.score_image(image_path_or_url, image_resize_dims=[224,224])\n",
    "print(\"serialized_result_in_json:\", serialized_result_in_json)\n",
    "\n",
    "# Score image url and remove image resizing\n",
    "print(\"Score image url\")\n",
    "image_path_or_url = \"https://cvtkdata.blob.core.windows.net/publicimages/microsoft_logo.jpg\"\n",
    "print(\"Image source:\",image_path_or_url)\n",
    "serialized_result_in_json = deploy_obj.score_image(image_path_or_url)\n",
    "print(\"serialized_result_in_json:\", serialized_result_in_json)\n",
    "\n",
    "# Score image url with added paramters. Add softmax to score.\n",
    "print(\"Score image url with added paramters. Add softmax to score\")\n",
    "from cvtk.utils.constants import ClassificationRESTApiParamters\n",
    "image_path_or_url = \"https://cvtkdata.blob.core.windows.net/publicimages/microsoft_logo.jpg\"\n",
    "print(\"Image source:\",image_path_or_url)\n",
    "serialized_result_in_json = deploy_obj.score_image(image_path_or_url, image_resize_dims=[224,224], parameters={ClassificationRESTApiParamters.ADD_SOFTMAX:True})\n",
    "print(\"serialized_result_in_json:\", serialized_result_in_json)"
   ]
  },
  {
   "cell_type": "code",
   "execution_count": null,
   "metadata": {},
   "outputs": [],
   "source": [
    "# Time image scoring\n",
    "import timeit\n",
    "\n",
    "for img_index, img_obj in enumerate(test_set.images[:10]):\n",
    "    print(\"Calling API for image {} of {}: {}...\".format(img_index, len(test_set.images), img_obj.name))\n",
    "    tic = timeit.default_timer()\n",
    "    return_json = deploy_obj.score_image(img_obj.storage_path, image_resize_dims=[224,224])\n",
    "    print(\"   Time for API call: {:.2f} seconds\".format(timeit.default_timer() - tic))\n",
    "    print(return_json)"
   ]
  },
  {
   "cell_type": "markdown",
   "metadata": {},
   "source": [
    "#### Score with service endpoint url and service key\n",
    "`AMLDeployment.score_existing_service_with_image(image_path_or_url, service_endpoint_url, service_key=None)`"
   ]
  },
  {
   "cell_type": "code",
   "execution_count": null,
   "metadata": {},
   "outputs": [],
   "source": [
    "# Import related classes and functions\n",
    "from cvtk.operationalization import AMLDeployment\n",
    "\n",
    "service_endpoint_url = \"\" # please replace with your own service url\n",
    "service_key = \"\" # please replace with your own service key\n",
    "# score local image with file path\n",
    "image_path_or_url = \"\" # replace with your image path\n",
    "print(\"Image source:\",image_path_or_url)\n",
    "serialized_result_in_json = AMLDeployment.score_existing_service_with_image(image_path_or_url,service_endpoint_url, service_key = service_key)\n",
    "print(\"serialized_result_in_json:\", serialized_result_in_json)\n",
    "\n",
    "# score image url\n",
    "image_path_or_url = \"https://cvtkdata.blob.core.windows.net/publicimages/microsoft_logo.jpg\"\n",
    "print(\"Image source:\",image_path_or_url)\n",
    "serialized_result_in_json = AMLDeployment.score_existing_service_with_image(image_path_or_url,service_endpoint_url, service_key = service_key, image_resize_dims=[224,224])\n",
    "print(\"serialized_result_in_json:\", serialized_result_in_json)"
   ]
  },
  {
   "cell_type": "markdown",
   "metadata": {},
   "source": [
    "#### Score endpoint with http request directly\n",
    "Following is some example code to form the http request directly in Python. You can do it in other programming languages."
   ]
  },
  {
   "cell_type": "code",
   "execution_count": null,
   "metadata": {},
   "outputs": [],
   "source": [
    "def score_image_list_with_http(images, service_endpoint_url, service_key=None, parameters={}):\n",
    "    \"\"\"Score image list with http request\n",
    "\n",
    "    Args:\n",
    "        images(list): list of (input image file path, base64 image string, url or buffer)\n",
    "        service_endpoint_url(str): endpoint url\n",
    "        service_key(str): service key, None for local deployment.\n",
    "        parameters(dict): service additional paramters in dictionary\n",
    "\n",
    "\n",
    "    Returns:\n",
    "        result (list): list of serialized result \n",
    "    \"\"\"\n",
    "    import requests\n",
    "    from io import BytesIO\n",
    "    import base64\n",
    "    routing_id = \"\"\n",
    "\n",
    "    if service_key is None:\n",
    "        headers = {'Content-Type': 'application/json',\n",
    "                   'X-Marathon-App-Id': routing_id}\n",
    "    else:\n",
    "        headers = {'Content-Type': 'application/json',\n",
    "                   \"Authorization\": ('Bearer ' + service_key), 'X-Marathon-App-Id': routing_id}\n",
    "    payload = []\n",
    "    for image in images:\n",
    "        encoded = None\n",
    "        # read image\n",
    "        with open(image,'rb') as f:\n",
    "            image_buffer = BytesIO(f.read()) ## Getting an image file represented as a BytesIO object\n",
    "        # convert your image to base64 string\n",
    "        encoded = base64.b64encode(image_buffer.getvalue())\n",
    "        image_request = {\"image_in_base64\": \"{0}\".format(encoded), \"parameters\": parameters}\n",
    "        payload.append(image_request)\n",
    "    body = json.dumps(payload)\n",
    "    r = requests.post(service_endpoint_url, data=body, headers=headers)\n",
    "    try:\n",
    "        result = json.loads(r.text)\n",
    "    except:\n",
    "        raise ValueError(\"Incorrect output format. Result cant not be parsed: \" + r.text)\n",
    "    return result\n",
    "\n",
    "# Test with images\n",
    "# test_set contains the images\n",
    "images = [test_set.images[0].storage_path, test_set.images[1].storage_path] # A list of local image files\n",
    "score_image_list_with_http(images, service_endpoint_url, service_key)"
   ]
  },
  {
   "cell_type": "markdown",
   "metadata": {},
   "source": [
    "### Parse serialized result from webservice\n",
    "The result from the webserice is in json string. You can parse it the with different DNN model classes"
   ]
  },
  {
   "cell_type": "code",
   "execution_count": null,
   "metadata": {},
   "outputs": [],
   "source": [
    "image_path_or_url = \"\" # replace with your image path\n",
    "print(\"Image source:\",image_path_or_url)\n",
    "serialized_result_in_json = deploy_obj.score_image(image_path_or_url, image_resize_dims=[224,224])\n",
    "print(\"serialized_result_in_json:\", serialized_result_in_json)"
   ]
  },
  {
   "cell_type": "code",
   "execution_count": null,
   "metadata": {},
   "outputs": [],
   "source": [
    "# Parse result from json string\n",
    "import numpy as np\n",
    "parsed_result = CNTKTLModel.parse_serialized_result(serialized_result_in_json)\n",
    "print(\"Parsed result:\", parsed_result)\n",
    "# Map result to image class\n",
    "class_index = np.argmax(np.array(parsed_result))\n",
    "print(\"Class index:\", class_index)\n",
    "dnn_model.class_map\n",
    "print(\"Class label:\", dnn_model.class_map[class_index])"
   ]
  }
 ],
 "metadata": {
  "anaconda-cloud": {},
  "extensions": {
   "jupyter_dashboards": {
    "activeView": "grid_default",
    "version": 1,
    "views": {
     "grid_default": {
      "cellMargin": 10,
      "defaultCellHeight": 20,
      "maxColumns": 12,
      "name": "grid",
      "type": "grid"
     },
     "report_default": {
      "name": "report",
      "type": "report"
     }
    }
   }
  },
  "kernelspec": {
   "display_name": "Python 3.5 AML",
   "language": "python",
   "name": "python3"
  },
  "language_info": {
   "codemirror_mode": {
    "name": "ipython",
    "version": 3
   },
   "file_extension": ".py",
   "mimetype": "text/x-python",
   "name": "python",
   "nbconvert_exporter": "python",
   "pygments_lexer": "ipython3",
   "version": "3.5.2"
  }
 },
 "nbformat": 4,
 "nbformat_minor": 1
}

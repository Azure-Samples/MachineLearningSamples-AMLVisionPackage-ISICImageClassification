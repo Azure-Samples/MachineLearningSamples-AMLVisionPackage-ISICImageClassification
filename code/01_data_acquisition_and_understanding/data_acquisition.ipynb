{
 "cells": [
  {
   "cell_type": "markdown",
   "metadata": {},
   "source": [
    "## Data Acquisition\n",
    "\n",
    "The image classification task uses skin images from the International Skin Imaging Collaboration (ISIC). ISIC is a partership between academia and industry to faciliate the application of digital skin imaging to study and help reduce melanoam mortality. The [ISIC archive](https://isic-archive.com/#images) contains over 13,000 skin lesion images with labels either benign or malignant. We download a sample of the images from ISIC archive."
   ]
  },
  {
   "cell_type": "code",
   "execution_count": 1,
   "metadata": {},
   "outputs": [],
   "source": [
    "import os\n",
    "import shutil\n",
    "import requests\n",
    "from os.path import join\n",
    "from urllib3.exceptions import ReadTimeoutError\n",
    "from requests.exceptions import RequestException"
   ]
  },
  {
   "cell_type": "code",
   "execution_count": 2,
   "metadata": {},
   "outputs": [],
   "source": [
    "# credit to https://github.com/GalAvineri/ISIC-Archive-Downloader\n",
    "def download_dataset(num_images, images_dir):\n",
    "    \n",
    "    url = 'https://isic-archive.com/api/v1/image?limit={0}&offset=0&sort=name&sortdir=1'.format(num_images)\n",
    "    response = requests.get(url, stream=True)\n",
    "    meta_data = response.json()\n",
    "    ids = [meta_data[index]['_id'] for index in range(len(meta_data))]\n",
    "\n",
    "    base_url_prefix = 'https://isic-archive.com/api/v1/image/'\n",
    "    base_url_suffix = '/download?contentDisposition=inline'\n",
    "\n",
    "    for id in ids:\n",
    "        # Build the image url\n",
    "        url_image = base_url_prefix + id + base_url_suffix\n",
    "        # Build the description url\n",
    "        url_desc = base_url_prefix + id\n",
    "\n",
    "        # Download the image and description using the url\n",
    "        # Sometimes their site isn't responding well, and than an error occurs,\n",
    "        # So we will retry 10 seconds later and repeat until it succeeds\n",
    "        succeeded = False\n",
    "        while not succeeded:\n",
    "            try:\n",
    "                # Download the image and description\n",
    "                response_image = requests.get(url_image, stream=True, timeout=20)\n",
    "                response_desc = requests.get(url_desc, stream=True, timeout=20)\n",
    "                # Validate the download status is ok\n",
    "                response_image.raise_for_status()\n",
    "                response_desc.raise_for_status()\n",
    "\n",
    "                # Parse the description and write it into a file\n",
    "                parsed_desc = response_desc.json()\n",
    "                \n",
    "                # Write the image into a file\n",
    "                diagnosis = parsed_desc['meta']['clinical']['benign_malignant']\n",
    "                img_path = join(images_dir, diagnosis)\n",
    "                if not os.path.exists(img_path):\n",
    "                    os.makedirs(img_path)\n",
    "                img_file = join(img_path, '{0}.jpg'.format(parsed_desc['name']))    \n",
    "                with open(img_file, 'wb') as imageFile:\n",
    "                    shutil.copyfileobj(response_image.raw, imageFile)\n",
    "                succeeded = True\n",
    "            except RequestException as e:\n",
    "                print(e)\n",
    "            except ReadTimeoutError as e:\n",
    "                print(e)\n",
    "            except IOError as e:\n",
    "                print(e)"
   ]
  },
  {
   "cell_type": "code",
   "execution_count": 4,
   "metadata": {},
   "outputs": [],
   "source": [
    "## Specify the number of images to download\n",
    "number_of_img_to_download = 10\n",
    "## Specify the download directory\n",
    "img_dir = '../../sample_data/isic_data'\n",
    "download_dataset(number_of_img_to_download, img_dir)"
   ]
  }
 ],
 "metadata": {
  "kernelspec": {
   "display_name": "Python 3.5 AML",
   "language": "python",
   "name": "python3"
  },
  "language_info": {
   "codemirror_mode": {
    "name": "ipython",
    "version": 3
   },
   "file_extension": ".py",
   "mimetype": "text/x-python",
   "name": "python",
   "nbconvert_exporter": "python",
   "pygments_lexer": "ipython3",
   "version": "3.5.2"
  }
 },
 "nbformat": 4,
 "nbformat_minor": 2
}

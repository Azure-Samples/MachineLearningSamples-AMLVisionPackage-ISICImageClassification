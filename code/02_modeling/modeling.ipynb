{
 "cells": [
  {
   "cell_type": "markdown",
   "metadata": {},
   "source": [
    "### Dataset\n",
    "\n",
    "As running example we use a dataset consisting of skin images, each labeled as belonging to classes: benign and malignant. We kept the number of images small so that this tutorial can be executed quickly; in practice at least 100 images per class should be provided."
   ]
  },
  {
   "cell_type": "markdown",
   "metadata": {},
   "source": [
    "### Storage Context\n",
    "The storage context is used to determine where various output files such as augmented images or DNN model files will be stored (see the StorageContext documentation for more details). Normally, the storage content does not need to be set explicitely. However, when using the AML Workbench, to avoid its 25 MB limit on the project size, we are setting the cvtk outputs directory to point to a location outside the AML project (see in context.json: \"../../../../cvtk_output\"). Make sure to remove the \"cvtk_output\" directory once it is no longer needed."
   ]
  },
  {
   "cell_type": "code",
   "execution_count": 1,
   "metadata": {},
   "outputs": [
    {
     "data": {
      "text/plain": [
       "{\n",
       "    \"storage\": {\n",
       "        \"outputs_path\": \"../../../cvtk_output\",\n",
       "        \"persistent_path\": \"../../../cvtk_output\",\n",
       "        \"temp_path\": \"../../../cvtk_output\"\n",
       "    }\n",
       "}"
      ]
     },
     "execution_count": 1,
     "metadata": {},
     "output_type": "execute_result"
    }
   ],
   "source": [
    "import warnings\n",
    "warnings.filterwarnings(\"ignore\")\n",
    "import json, numpy as np, os, timeit \n",
    "from azureml.logging import get_azureml_logger\n",
    "from imgaug import augmenters\n",
    "from IPython.display import display\n",
    "from sklearn import svm\n",
    "from cvtk import ClassificationDataset, CNTKTLModel, Context, Splitter, StorageContext\n",
    "from cvtk.augmentation import augment_dataset\n",
    "from cvtk.core.classifier import ScikitClassifier\n",
    "from cvtk.evaluation import ClassificationEvaluation, graph_roc_curve, graph_pr_curve, graph_confusion_matrix, basic_plot\n",
    "import matplotlib.pyplot as plt\n",
    "%matplotlib inline\n",
    "\n",
    "# Disable printing of logging messages\n",
    "from azuremltkbase.logging import ToolkitLogger\n",
    "ToolkitLogger.getInstance().setEnabled(False)\n",
    "\n",
    "# Set storage context.\n",
    "out_root_path = \"../../../cvtk_output\"\n",
    "Context.create(outputs_path=out_root_path, persistent_path=out_root_path, temp_path=out_root_path)"
   ]
  },
  {
   "cell_type": "markdown",
   "metadata": {},
   "source": [
    "### Step 1: Dataset Creation"
   ]
  },
  {
   "cell_type": "markdown",
   "metadata": {},
   "source": [
    "The recommended way to generate a Dataset object in CVTK is by providing the root directory of the images on the local disk. This directory has to follow the same general structure as the tableware dataset, ie. contain sub-directories with the actual images:\n",
    "- root\n",
    "    - label1\n",
    "    - label2\n",
    "    - ...\n",
    "    - labeln\n",
    "  \n",
    "Training an image classification model for a different dataset is therefore as easy as changing the root path `dataset_location` in the code below to point at different images."
   ]
  },
  {
   "cell_type": "code",
   "execution_count": 2,
   "metadata": {
    "scrolled": true
   },
   "outputs": [
    {
     "name": "stdout",
     "output_type": "stream",
     "text": [
      "F1 2018-04-24 00:52:13,780 INFO azureml.vision:machine info {\"is_dsvm\": true, \"os_type\": \"Windows\"} \n",
      "F1 2018-04-24 00:52:13,786 INFO azureml.vision:dataset creating dataset for scenario=classification \n",
      "Dataset consists of 10 images with 2 labels.\n",
      "Select information for image 2: name=ISIC_0000003.jpg, label=benign, unique id=116.\n"
     ]
    }
   ],
   "source": [
    "# Root image directory \n",
    "dataset_location = \"../../sample_data/isic_data\"\n",
    "dataset_name = 'isic'\n",
    "dataset = ClassificationDataset.create_from_dir(dataset_name, dataset_location)\n",
    "print(\"Dataset consists of {} images with {} labels.\".format(len(dataset.images), len(dataset.labels)))\n",
    "print(\"Select information for image 2: name={}, label={}, unique id={}.\".format(\n",
    "    dataset.images[2].name, dataset.images[2]._labels[0].name, dataset.images[2]._storage_id))"
   ]
  },
  {
   "cell_type": "markdown",
   "metadata": {},
   "source": [
    "### Step 2: Image visualization and annotation\n",
    "\n",
    "The widget below can be used to visualize the images in the dataset object, and to correct some of the labels if needed. In case you see a \"Widget Javascript not detected\" error, this can often be solved by running the command: \n",
    "  `jupyter nbextension enable --py --sys-prefix widgetsnbextension`"
   ]
  },
  {
   "cell_type": "code",
   "execution_count": 3,
   "metadata": {},
   "outputs": [
    {
     "data": {
      "application/vnd.jupyter.widget-view+json": {
       "model_id": "62f03e5c366942d3940dde31ae211724",
       "version_major": 2,
       "version_minor": 0
      },
      "text/plain": [
       "Tab(children=(HBox(children=(VBox(children=(HBox(children=(VBox(children=(Button(button_style='primary', descr…"
      ]
     },
     "metadata": {},
     "output_type": "display_data"
    }
   ],
   "source": [
    "from ui_utils.ui_annotation import AnnotationUI\n",
    "annotation_ui = AnnotationUI(dataset, Context.get_global_context())\n",
    "display(annotation_ui.ui)"
   ]
  },
  {
   "cell_type": "markdown",
   "metadata": {},
   "source": [
    "### Step 3: Image Augmentation\n",
    "\n",
    "The augmentation module provides functionality to augment a dataset object using all the transformations described in the [imgaug](https://github.com/aleju/imgaug) library. Image transformations can be grouped in a single pipeline, in which case all transformations in the pipeline are applied simultaniously to each image. If you would like to apply different augmentation steps separately, or in any different manner, you can define multiple pipelines and pass them to the *augment_dataset* function. For more details and examples of image augmentation, see the [imgaug documentation](https://github.com/aleju/imgaug).\n",
    "\n",
    "Adding augmented images to the training set is especially beneficial for small datasets. However, since it slows down DNN training due to the increased number of training images, our recommendation is to start experimentation without augmentation."
   ]
  },
  {
   "cell_type": "code",
   "execution_count": 4,
   "metadata": {},
   "outputs": [
    {
     "name": "stdout",
     "output_type": "stream",
     "text": [
      "F1 2018-04-24 00:52:14,214 INFO azureml.vision:splitter splitting a dataset \n",
      "F1 2018-04-24 00:52:14,220 INFO azureml.vision:dataset creating dataset for scenario=classification \n",
      "F1 2018-04-24 00:52:14,222 INFO azureml.vision:dataset creating dataset for scenario=classification \n",
      "Number of training images = 6, test images = 4.\n"
     ]
    }
   ],
   "source": [
    "# Split the dataset into train and test  \n",
    "train_set_orig, test_set = dataset.split(train_size = 0.66, stratify = \"label\")\n",
    "print(\"Number of training images = {}, test images = {}.\".format(train_set_orig.size(), test_set.size()))"
   ]
  },
  {
   "cell_type": "code",
   "execution_count": 5,
   "metadata": {
    "scrolled": true
   },
   "outputs": [],
   "source": [
    "augment_train_set = False\n",
    "\n",
    "if augment_train_set:\n",
    "    aug_sequence = augmenters.Sequential([\n",
    "            augmenters.Fliplr(0.5),             # horizontally flip 50% of all images\n",
    "            augmenters.Crop(percent=(0, 0.1)),  # crop images by 0-10% of their height/width\n",
    "        ])\n",
    "    train_set = augment_dataset(train_set_orig, [aug_sequence])\n",
    "    print(\"Number of original training images = {}, with augmented images included = {}.\".format(train_set_orig.size(), train_set.size()))\n",
    "else:\n",
    "    train_set = train_set_orig  "
   ]
  },
  {
   "cell_type": "markdown",
   "metadata": {},
   "source": [
    "### Step 4: DNN Model Definition\n",
    "\n",
    "Six different per-trained Deep Neural Network models are supported in CVTK: AlexNet, Resnet-18, Resnet-34, and Resnet-50, Resnet-101, and Resnet-152. These DNNs can be used either as classifier, or as featurizer (see step 5). More information about the networks can be found [here](https://github.com/Microsoft/CNTK/blob/master/PretrainedModels/Image.md), and a basic introduction to Transfer Learning is [here](https://blog.slavv.com/a-gentle-intro-to-transfer-learning-2c0b674375a0).\n",
    "\n",
    "CVTK comes with default parametes (224x224 pixel resolution and Resnet-18 DNN) which were selected to work well on a wide variety of tasks. Accuracy can often be improved by eg. increasing the image resolution to 500x500 pixels, and/or selecting a deeper model (Resnet-50), however this comes at a significant increase in training time. See the \"How to improve accuracy\" section in the Appendix for more detail, and why the minibatch-size and the learning rate need to be updated."
   ]
  },
  {
   "cell_type": "code",
   "execution_count": 6,
   "metadata": {},
   "outputs": [],
   "source": [
    "# CVTK default parameters (224 x 224 pixels resolution, Resnet-18)\n",
    "lr_per_mb = [0.05]*7 + [0.005]*7 +  [0.0005]\n",
    "mb_size = 32\n",
    "input_resoluton = 224\n",
    "base_model_name = \"ResNet18_ImageNet_CNTK\"\n",
    "\n",
    "# CVTK suggested parameters for 500 x 500 pixels resolution, Resnet-50\n",
    "# (see in the Appendix \"How to improve accuracy\", last row in table)\n",
    "# lr_per_mb   = [0.01] * 7 + [0.001] * 7 + [0.0001]\n",
    "# mb_size    = 8\n",
    "# input_resoluton = 500\n",
    "# base_model_name = \"ResNet50_ImageNet_CNTK\"\n",
    "\n",
    "# Initialize model\n",
    "dnn_model = CNTKTLModel(train_set.labels,\n",
    "                       base_model_name=base_model_name,\n",
    "                       image_dims = (3, input_resoluton, input_resoluton))"
   ]
  },
  {
   "cell_type": "markdown",
   "metadata": {},
   "source": [
    "### Step 5: Classifier Training\n",
    "\n",
    "The pre-trained DNN from the last section can be used in two ways:\n",
    "  - DNN refinement: This trains the DNN to directly perform the classification. While DNN training is slow, it typically leads to the best results since all network weights can be improved during training to give best accuracy.\n",
    "  - DNN featurization: This runs the DNN as-is to obtain a lower-dimensional representation of an image (512, 2048, or 4096 floats), which is then used as input to train a separate classifier. Since the DNN is kept unchanged, this approach is much faster compared to DNN refinement, however accuracy is not as good. Nevertheless, training an external classifier such as a linear SVM (shown below) can provide a strong baseline, and help with understanding the feasibility of a problem.\n",
    "  \n",
    "Tensorboard can be used to visualize the training progress. To activate, add the parameter `tensorboard_logdir=PATH` as shown below, start the tensorboard client by running in a new console the command `tensorboard --logdir=PATH`, and open a web-browser as instructed by tensorboard (default is localhost:6006). "
   ]
  },
  {
   "cell_type": "code",
   "execution_count": 7,
   "metadata": {
    "scrolled": true
   },
   "outputs": [
    {
     "name": "stdout",
     "output_type": "stream",
     "text": [
      "F1 2018-04-24 00:52:18,021 INFO azureml.vision:Fit starting in experiment  452118637 \n",
      "F1 2018-04-24 00:52:18,022 INFO azureml.vision:model starting training for scenario=classification \n",
      "<class 'int'>\n",
      "1 worker\n",
      "Training transfer learning model for 15 epochs (epoch_size = 6).\n",
      "non-distributed mode\n",
      "Training 15740674 parameters in 53 parameter tensors.\n",
      "Training 15740674 parameters in 53 parameter tensors.\n",
      "Learning rate per minibatch: 0.05\n",
      "Momentum per minibatch: 0.9\n",
      "PROGRESS: 0.00%\n",
      "Finished Epoch[1 of 15]: [Training] loss = 2.701239 * 6, metric = 83.33% * 6 2.362s (  2.5 samples/s);\n",
      "Evaluation Set Error :: 33.33%\n",
      "Finished Epoch[2 of 15]: [Training] loss = 1.254495 * 6, metric = 50.00% * 6 6.315s (  1.0 samples/s);\n",
      "Evaluation Set Error :: 16.67%\n",
      "Finished Epoch[3 of 15]: [Training] loss = 0.014524 * 6, metric = 0.00% * 6 0.087s ( 69.0 samples/s);\n",
      "Evaluation Set Error :: 16.67%\n",
      "Finished Epoch[4 of 15]: [Training] loss = 0.001979 * 6, metric = 0.00% * 6 0.100s ( 60.0 samples/s);\n",
      "Evaluation Set Error :: 16.67%\n",
      "Finished Epoch[5 of 15]: [Training] loss = 0.003316 * 6, metric = 0.00% * 6 0.090s ( 66.7 samples/s);\n",
      "Evaluation Set Error :: 16.67%\n",
      "Finished Epoch[6 of 15]: [Training] loss = 0.006320 * 6, metric = 0.00% * 6 0.102s ( 58.8 samples/s);\n",
      "Evaluation Set Error :: 16.67%\n",
      "Finished Epoch[7 of 15]: [Training] loss = 0.473923 * 6, metric = 16.67% * 6 0.087s ( 69.0 samples/s);\n",
      "Evaluation Set Error :: 16.67%\n",
      "Learning rate per minibatch: 0.005\n",
      "Finished Epoch[8 of 15]: [Training] loss = 0.039370 * 6, metric = 0.00% * 6 0.091s ( 65.9 samples/s);\n",
      "Evaluation Set Error :: 16.67%\n",
      "Finished Epoch[9 of 15]: [Training] loss = 0.040390 * 6, metric = 0.00% * 6 0.087s ( 69.0 samples/s);\n",
      "Evaluation Set Error :: 16.67%\n",
      "Finished Epoch[10 of 15]: [Training] loss = 0.054072 * 6, metric = 0.00% * 6 0.090s ( 66.7 samples/s);\n",
      "Evaluation Set Error :: 16.67%\n",
      "Finished Epoch[11 of 15]: [Training] loss = 0.003276 * 6, metric = 0.00% * 6 0.106s ( 56.6 samples/s);\n",
      "Evaluation Set Error :: 16.67%\n",
      "Finished Epoch[12 of 15]: [Training] loss = 0.000457 * 6, metric = 0.00% * 6 0.101s ( 59.4 samples/s);\n",
      "Evaluation Set Error :: 16.67%\n",
      "Finished Epoch[13 of 15]: [Training] loss = 0.000436 * 6, metric = 0.00% * 6 0.086s ( 69.8 samples/s);\n",
      "Evaluation Set Error :: 16.67%\n",
      "Finished Epoch[14 of 15]: [Training] loss = 0.000213 * 6, metric = 0.00% * 6 0.099s ( 60.6 samples/s);\n",
      "Evaluation Set Error :: 16.67%\n",
      "Learning rate per minibatch: 0.0005\n",
      "Finished Epoch[15 of 15]: [Training] loss = 0.000041 * 6, metric = 0.00% * 6 0.105s ( 57.1 samples/s);\n",
      "Evaluation Set Error :: 16.67%\n",
      "Stored trained model at ../../../cvtk_output\\model_trained\\ImageClassification.model\n",
      "F1 2018-04-24 00:52:28,755 INFO azureml.vision:Fit finished in experiment  452118637 \n"
     ]
    }
   ],
   "source": [
    "# Train either the DNN or a SVM as classifier \n",
    "classifier_name = \"dnn\"\n",
    "\n",
    "if classifier_name.lower() == \"dnn\":  \n",
    "    dnn_model.train(train_set, lr_per_mb = lr_per_mb, mb_size = mb_size, eval_dataset=test_set) #, tensorboard_logdir=r\"tensorboard\"\n",
    "    classifier = dnn_model\n",
    "elif classifier_name.lower() == \"svm\":\n",
    "    learner = svm.LinearSVC(C=1.0, class_weight='balanced', verbose=0)\n",
    "    classifier = ScikitClassifier(dnn_model, learner = learner)\n",
    "    classifier.train(train_set)\n",
    "else:\n",
    "    raise Exception(\"Classifier unknown: \" + classifier)   "
   ]
  },
  {
   "cell_type": "code",
   "execution_count": 8,
   "metadata": {},
   "outputs": [
    {
     "data": {
      "image/png": "[encoded data removed]",
      "text/plain": [
       "<Figure size 432x288 with 1 Axes>"
      ]
     },
     "metadata": {},
     "output_type": "display_data"
    }
   ],
   "source": [
    "# Plot how the training and test accuracy increases during gradient descent. \n",
    "if classifier_name == \"dnn\":\n",
    "    [train_accs, test_accs, epoch_numbers] = classifier.train_eval_accs\n",
    "    plt.xlabel(\"Number of training epochs\") \n",
    "    plt.ylabel(\"Classification accuracy\") \n",
    "    train_plot = plt.plot(epoch_numbers, train_accs, 'r-', label = \"Training accuracy\")\n",
    "    test_plot = plt.plot(epoch_numbers, test_accs, 'b-.', label = \"Test accuracy\")\n",
    "    plt.legend()"
   ]
  },
  {
   "cell_type": "code",
   "execution_count": 16,
   "metadata": {},
   "outputs": [],
   "source": [
    "# # Optional. Persist you model on disk and reuse it later for deployment. \n",
    "# from cvtk import TFFasterRCNN, Context\n",
    "# import os\n",
    "save_model_path = os.path.join(Context.get_global_context().storage.persistent_path, \"saved_classifier.model\")\n",
    "# save_model_path = '../02_modeling/dnn.model'\n",
    "# Save model to disk\n",
    "dnn_model.serialize(save_model_path)"
   ]
  },
  {
   "cell_type": "markdown",
   "metadata": {},
   "source": [
    "### Step 6: Evaluation and Visualization"
   ]
  },
  {
   "cell_type": "markdown",
   "metadata": {},
   "source": [
    "The evaluation module provides functionality to evaluate the performance of the trained model on an independent test dataset. Some of the evaluation metrics it computes are: accuracy, precision and recall, confusion metrix, ROC curve, etc."
   ]
  },
  {
   "cell_type": "code",
   "execution_count": 13,
   "metadata": {},
   "outputs": [
    {
     "name": "stdout",
     "output_type": "stream",
     "text": [
      "F1 2018-04-24 00:52:57,240 INFO azureml.vision:evaluation doing evaluation for scenario=classification \n",
      "F1 2018-04-24 00:52:57,242 INFO azureml.vision:model scoring dataset for scenario=classification \n",
      "Accuracy = 75.00%\n",
      "Confusion matrix = \n",
      "[[3 0]\n",
      " [1 0]]\n"
     ]
    },
    {
     "data": {
      "image/png": "[encoded data removed]",
      "text/plain": [
       "<Figure size 1296x288 with 4 Axes>"
      ]
     },
     "metadata": {},
     "output_type": "display_data"
    }
   ],
   "source": [
    "# Run the classifier on all test set images\n",
    "ce = ClassificationEvaluation(classifier, test_set, minibatch_size = mb_size)\n",
    "\n",
    "# Compute Accuracy and the confusion matrix\n",
    "acc = ce.compute_accuracy()\n",
    "print(\"Accuracy = {:2.2f}%\".format(100*acc))\n",
    "cm  = ce.compute_confusion_matrix()\n",
    "print(\"Confusion matrix = \\n{}\".format(cm))\n",
    "\n",
    "# Show PR curve, ROC curve, and confusion matrix\n",
    "fig, ((ax1, ax2, ax3)) = plt.subplots(1,3)\n",
    "fig.set_size_inches(18, 4)\n",
    "graph_roc_curve(ce, ax=ax1)\n",
    "graph_pr_curve(ce, ax=ax2)\n",
    "graph_confusion_matrix(ce, ax=ax3)\n",
    "plt.show()"
   ]
  },
  {
   "cell_type": "code",
   "execution_count": 14,
   "metadata": {},
   "outputs": [
    {
     "data": {
      "application/vnd.jupyter.widget-view+json": {
       "model_id": "c278c488c6c745b09bbab290bd317360",
       "version_major": 2,
       "version_minor": 0
      },
      "text/plain": [
       "Tab(children=(HBox(children=(VBox(children=(HBox(children=(Button(description='Image -1', layout=Layout(width=…"
      ]
     },
     "metadata": {},
     "output_type": "display_data"
    }
   ],
   "source": [
    "# Results viewer UI\n",
    "labels = [l.name for l in dataset.labels] \n",
    "pred_scores = ce.scores #classification scores for all images and all classes\n",
    "pred_labels = [labels[i] for i in np.argmax(pred_scores, axis=1)]\n",
    "\n",
    "from ui_utils.ui_results_viewer import ResultsUI\n",
    "results_ui = ResultsUI(test_set, Context.get_global_context(), pred_scores, pred_labels)\n",
    "display(results_ui.ui)"
   ]
  },
  {
   "cell_type": "code",
   "execution_count": 15,
   "metadata": {},
   "outputs": [
    {
     "data": {
      "application/vnd.jupyter.widget-view+json": {
       "model_id": "1b048507e1ee4fa9842796385cc4b989",
       "version_major": 2,
       "version_minor": 0
      },
      "text/plain": [
       "VBox(children=(Figure(axes=[Axis(label='Precision', orientation='vertical', scale=LinearScale(max=100.0, min=0…"
      ]
     },
     "metadata": {},
     "output_type": "display_data"
    }
   ],
   "source": [
    "# Precision / recall curve UI\n",
    "precisions, recalls, thresholds = ce.compute_precision_recall_curve() \n",
    "thresholds = list(thresholds)\n",
    "thresholds.append(thresholds[-1])\n",
    "from ui_utils.ui_precision_recall import PrecisionRecallUI\n",
    "pr_ui = PrecisionRecallUI(100*precisions[::-1], 100*recalls[::-1], thresholds[::-1])\n",
    "display(pr_ui.ui) "
   ]
  },
  {
   "cell_type": "markdown",
   "metadata": {},
   "source": [
    "\n",
    "# APPENDIX \n",
    "\n",
    "# (A) Bing image download\n",
    "\n",
    "The dataset object provides functionality to download images using the [Bing Image Search API](https://azure.microsoft.com/en-us/services/cognitive-services/bing-image-search-api/). Two types of search queries are supported: (i) regular text queries; and (ii) image URL queries. These queries need to be provided inside a json-encoded text file. In addition to the search queries, also their class label has to be specified (see this [sample json file](./misc/sample.json)). Furthermore, a Context object needs to be created explicitly and contain the Bing Image Search API key which requires a Bing Image Search API subscription. \n",
    "\n",
    "\n",
    "\n",
    "# (B) How to improve accuracy\n",
    "The Computer Vision toolkit (CVTK) is shown to give good results for a wide variety of datasets. However, as is true for most machine learning projects, getting the best possible results for a new dataset requires careful parameter tuning, as well as evaluating different design decisions. The following sections provide guidance on how to improve accuracy on a given dataset, ie. what parameters are most promising to optimize first, what values for these parameters one should try, and what pitfalls to avoid.\n",
    "\n",
    "Generally speaking, training Deep Learning models comes with a trade-off between training time versus model accuracy. The CVTK has pre-set default parameters (see 1st row in the table below) which focus on fast training speed while typically producing high accuracy models. This accuracy can often be improved further using e.g. higher image resolution or deeper models, however at the cost of increasing training time by a factor of 10x or more.\n",
    "\n",
    "Our recommendation is to first work with the default parameters, train a model, inspect the results, correct ground truth annotations as needed, and only then try parameters which slow down training time (see table below suggested parameter values). An understanding of these parameters while technically not necessary is however recommended.\n",
    "\n",
    "\n",
    "### Best-practice / Pitfalls / Tips:\n",
    "* Data quality: the training and test sets should be of high quality. That is, the images are annotated correctly, ambiguous images removed (for example where it is unclear to a human eye if the image shows a tennis ball or a lemon), and the attributes are mutually exclusive (that is, each image belongs to exactly one attribute).\n",
    "* Before refining the DNN, a SVM classifier should be trained using a pre-trained and fixed DNN as featurizer. This is supported in CVTK and does not require long to train since the DNN itself is not modified. Even this simple approach often achieves good accuracies and hence represents a strong baseline. The next step is then to refine the DNN which should give better accuracy.\n",
    "* If the object-of-interest is small in the image then Image classification approaches are known to not work well. In such cases, consider using an object detection approach such as CVTK's Faster R-CNN based on Tensorflow.\n",
    "* The more training data the better. As a rule-of-thumb, one should have at least 100 examples for each class, ie. 100 images for \"dog\", 100 images for \"cat\", etc. Training a model with less images is possible but might not produce good results.\n",
    "* The training images need to reside locally on the machine with the GPU, and be on an SSD drive (not a HDD). Otherwise, latency from image reading can drastically reduce training speed (by even a factor of 100x).\n",
    "\n",
    "\n",
    "### Parameters to optimize:\n",
    "Finding optimal values for these parameters is important and can often improve accuracy significantly:\n",
    "* Learning rate (`lr_per_mb`): The arguably most important parameter to get right. If the accuracy on the training set after DNN refinement is above ~5% then most likely the learning rate is either too high, or the number of training epochs too low. Especially with small datasets, the DNN tends to over-fit on the training data, however in practice this still leads to good models on the test set. We typically use 15 epochs where the inital learning rate is reduced twice; training using more epochs can in some cases improve performance.\n",
    "* Input resolution (`image_dims`): The default image resolution is 224x224 pixels. Using higher image resolution of, for example, 500x500 pixels or 1000x1000 pixels can significantly improve accuracy but slows down DNN refinement. Note that CVTK expects the input resolution to be a tuple of (color-channels, image-width, image-height), e.g. (3, 224, 224), where the number of color channels has to be set to 3 (the Red-Green-Blue bands).\n",
    "* Model architecture(`base_model_name`): Try using deeper DNNs such as ResNet-34 or ResNet-50 instead of the default ResNet-18 model. The Resnet-50 model is not only deeper, but its output of the penultimate layer is of size 2048 floats (vs. 512 floats of the ResNet-18 and ResNet-34 models). This increased dimensionality can be especially beneficial when keeping the DNN fixed and instead training an SVM classifier.\n",
    "* Minibatch size (`mb_size`): High minibatch sizes will lead to faster training time however at the expense of an increased DNN memory consumption. Hence, when selecting deeper models (E.g. ResNet-50 versus ResNet-18) and/or higher image resolution (500\\*500 pixels versus 224\\*224 pixels), one typically has to reduce the minibatch size to avoid out-of-memory errors. When changing the minibatch size, often also the learning rate needs to be adjusted as can be seen in the table below.\n",
    "* Drop-out rate (`dropout_rate`) and L2-regularizer (`l2_reg_weight`): DNN over-fitting can be reduced by using a dropout rate of 0.5 (default is 0.5 in CVTK) or more, and by increasing the regularizer weight (default is 0.0005 in CVTK). Note though that especially with small datasets DNN over-fitting is hard and often impossible to avoid.\n",
    "\n",
    "\n",
    "### Parameter explanation:\n",
    "- Learning rate: step size used during gradient descent learning. If set too low then the model will take many epochs to train, if set too high then the model will not converge to a good solution. Note that typically a schedule is used where the learning rate is reduced after a certain number of epochs. E.g. the learning rate schedule `[0.05]*7 + [0.005]*7 + [0.0005]` corresponds to using an initial learning rate of 0.05 for the first 7 epochs, followed by a 10x reduced learning rate of 0.005 for another 7 epochs, and finally fine-tuning the model for a single epoch with a 100x reduced learning rate of 0.0005.\n",
    "- Minibatch size: GPU's can process multiple images in parallel to speed up computation. These parallel processed images are also referred as a minibatch. The higher the minibatch size the faster training will be, however at the expense of a significantly increased DNN memory consumption.\n",
    "\n",
    "### Suggested parameters values:\n",
    "The table below provides different parameter sets which were shown to produce high accuracy models on a wide variety of image classification tasks. The optimal parameters depend on the specific dataset and on the exact GPU used, hence the table should be seen as a guideline only. After trying these parameters, consider also image resolutions of more than 500x500 pixels, or deeper models such as Resnet-101 or Resnet-152.\n",
    "\n",
    "The first row in the table corresponds to the default parameters which are set inside CVTK. All other rows take longer to train (indicated in the first column) however at the benefit of increased accuracy (see the second column for the average accuracy over three internal datasets). For example, the parameters in the last row take 5-15x longer to train, however resulted in significantly increased (averaged) accuracy on three internal test sets from 82.6% to 92.8%.\n",
    "\n",
    "Deeper models and higher input resolution take up more DNN memory, and hence the minibatch size needs to be reduced with increased model complexity to avoid out-of-memory-errors. As can be seen in the table below, we found it beneficial to decrease the learning rate by a factor of two whenever decreasing the minibatch size by the same multiplier. Note that the minibatch size might need to get reduced further on GPUs with smaller amounts of memory.\n",
    "\n",
    "| Training time (rough estimate) | Example accuracy | Minibatch size (`mb_size`) | Learning rate (`lr_per_mb`) | Image resolution (`image_dims`) | DNN architecture (`base_model_name`) |\n",
    "|------------- |:-------------:|:-------------:|:-----:|:-----:|:---:|\n",
    "| 1x (reference) | 82.6% | 32 | [0.05]\\*7  + [0.005]\\*7  + [0.0005]  | (3, 224, 224) | ResNet18_ImageNet_CNTK |\n",
    "| 2-5x    | 90.2% | 16 | [0.025]\\*7 + [0.0025]\\*7 + [0.00025] | (3, 500, 500) | ResNet18_ImageNet_CNTK |\n",
    "| 2-5x    | 87.5% | 16 | [0.025]\\*7 + [0.0025]\\*7 + [0.00025] | (3, 224, 224) | ResNet50_ImageNet_CNTK |\n",
    "| 5-15x        | 92.8% |  8 | [0.01]\\*7  + [0.001]\\*7  + [0.0001]  | (3, 500, 500) | ResNet50_ImageNet_CNTK |\n"
   ]
  }
 ],
 "metadata": {
  "anaconda-cloud": {},
  "extensions": {
   "jupyter_dashboards": {
    "activeView": "grid_default",
    "version": 1,
    "views": {
     "grid_default": {
      "cellMargin": 10,
      "defaultCellHeight": 20,
      "maxColumns": 12,
      "name": "grid",
      "type": "grid"
     },
     "report_default": {
      "name": "report",
      "type": "report"
     }
    }
   }
  },
  "kernelspec": {
   "display_name": "Python 3.5 AML",
   "language": "python",
   "name": "python3"
  },
  "language_info": {
   "codemirror_mode": {
    "name": "ipython",
    "version": 3
   },
   "file_extension": ".py",
   "mimetype": "text/x-python",
   "name": "python",
   "nbconvert_exporter": "python",
   "pygments_lexer": "ipython3",
   "version": "3.5.2"
  }
 },
 "nbformat": 4,
 "nbformat_minor": 1
}
